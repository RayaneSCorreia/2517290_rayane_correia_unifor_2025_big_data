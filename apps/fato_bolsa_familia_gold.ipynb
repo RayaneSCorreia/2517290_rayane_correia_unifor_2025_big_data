{
 "cells": [
  {
   "cell_type": "code",
   "execution_count": 2,
   "id": "0e974210-193c-47f5-8b71-60f057871d6e",
   "metadata": {},
   "outputs": [],
   "source": [
    "from config_spark import get_spark\n",
    "from pyspark.sql.functions import col, year, month, sum as _sum, countDistinct\n"
   ]
  },
  {
   "cell_type": "code",
   "execution_count": 3,
   "id": "4e3eb5e2-83aa-4687-84bc-0e250b6fdc7d",
   "metadata": {},
   "outputs": [],
   "source": [
    "SILVER_BUCKET = \"s3a://silver-bolsa-familia-parquet/\"\n",
    "GOLD_BUCKET   = \"s3a://gold-bolsa-familia-parquet/f_bolsa_familia_mun_agg\"\n",
    "\n",
    "spark = get_spark(\"gold-from-silver-fato-bolsa-familia-agg\")\n",
    "\n",
    "# lê a camada silver (já normalizada)\n",
    "df = spark.read.parquet(SILVER_BUCKET)\n",
    "\n",
    "# cria agregação mensal por município\n",
    "fact = (df\n",
    "    .withColumn(\"ano\", year(col(\"dt_ref\")))\n",
    "    .withColumn(\"mes\", month(col(\"dt_ref\")))\n",
    "    .groupBy(\"ano\", \"mes\", \"cod_mun\", \"mun_nome\", \"uf\", \"uf_nome\", \"cod_reg\")\n",
    "    .agg(\n",
    "        _sum(\"valor\").alias(\"vl_total_mes\"),\n",
    "        _sum(\"quantidade_beneficiados\").alias(\"qtd_beneficiados_mes\"),\n",
    "        countDistinct(\"id\").alias(\"qtd_registros\")\n",
    "    )\n",
    "    .orderBy(\"ano\",\"mes\",\"uf\",\"mun_nome\")\n",
    ")\n",
    "\n",
    "# escreve particionado por ano/mes (ótimo para consultas temporais)\n",
    "(fact.write\n",
    "    .mode(\"overwrite\")\n",
    "    .partitionBy(\"ano\",\"mes\")\n",
    "    .parquet(GOLD_BUCKET))\n"
   ]
  }
 ],
 "metadata": {
  "kernelspec": {
   "display_name": "Python 3 (ipykernel)",
   "language": "python",
   "name": "python3"
  },
  "language_info": {
   "codemirror_mode": {
    "name": "ipython",
    "version": 3
   },
   "file_extension": ".py",
   "mimetype": "text/x-python",
   "name": "python",
   "nbconvert_exporter": "python",
   "pygments_lexer": "ipython3",
   "version": "3.11.6"
  }
 },
 "nbformat": 4,
 "nbformat_minor": 5
}
