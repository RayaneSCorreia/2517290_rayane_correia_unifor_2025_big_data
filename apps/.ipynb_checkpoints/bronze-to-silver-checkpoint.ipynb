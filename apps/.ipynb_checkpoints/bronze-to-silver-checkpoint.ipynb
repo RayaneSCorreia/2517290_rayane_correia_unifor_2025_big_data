{
 "cells": [
  {
   "cell_type": "code",
   "execution_count": 4,
   "id": "cdb941be-afb3-40cb-bafe-84590c1e0d44",
   "metadata": {},
   "outputs": [],
   "source": [
    "from pyspark.sql import SparkSession\n",
    "from pyspark.sql.functions import col, to_date, year, month\n",
    "from apps.config_spark import get_spark"
   ]
  },
  {
   "cell_type": "code",
   "execution_count": 26,
   "id": "e9a12e20-2333-41ec-9214-98d8fb6a2a6a",
   "metadata": {},
   "outputs": [],
   "source": [
    "BRONZE_BUCKET = \"s3a://bronze-bolsa-familia-json/\"\n",
    "SILVER_BUCKET = \"s3a://silver-bolsa-familia-parquet/\"\n",
    "\n",
    "df = (spark.read\n",
    "      .option(\"recursiveFileLookup\", \"true\")\n",
    "      .option(\"pathGlobFilter\", \"*.json\")\n",
    "      .option(\"multiLine\", \"true\") \n",
    "      .json(BRONZE_BUCKET))\n",
    "\n",
    "df_final = (\n",
    "    df.select(\n",
    "        col(\"id\"),\n",
    "        col(\"dataReferencia\").alias(\"dt_ref\"),\n",
    "        col(\"municipio.codigoIBGE\").alias(\"cod_mun\"),\n",
    "        col(\"municipio.nomeIBGE\").alias(\"mun_nome\"),\n",
    "        col(\"municipio.codigoRegiao\").alias(\"cod_reg\"),\n",
    "        col(\"municipio.uf.sigla\").alias(\"uf\"),\n",
    "        col(\"municipio.uf.nome\").alias(\"uf_nome\"),\n",
    "        col(\"tipo.id\").alias(\"id_tp\"),\n",
    "        col(\"tipo.descricao\").alias(\"tp_desc\"),\n",
    "        col(\"tipo.descricaoDetalhada\").alias(\"tp_desc_det\"),\n",
    "        col(\"quantidadeBeneficiados\").alias(\"quantidade_beneficiados\"),\n",
    "        col(\"valor\").cast(\"double\").alias(\"valor\")\n",
    "        )\n",
    "    ).withColumn(\"dt_ref\", to_date(col(\"dt_ref\"), \"yyyy-MM-dd\")).withColumn(\"ano\", year(col(\"dt_ref\"))).withColumn(\"mes\", month(col(\"dt_ref\")))\n",
    "\n",
    "(df_final.repartition(\"uf\",\"ano\",\"mes\")\n",
    "       .write\n",
    "       .mode(\"overwrite\")\n",
    "       .option(\"partitionOverwriteMode\",\"dynamic\")\n",
    "       .partitionBy(\"uf\",\"ano\",\"mes\")\n",
    "       .parquet(SILVER_BUCKET))\n"
   ]
  }
 ],
 "metadata": {
  "kernelspec": {
   "display_name": "Python 3 (ipykernel)",
   "language": "python",
   "name": "python3"
  },
  "language_info": {
   "codemirror_mode": {
    "name": "ipython",
    "version": 3
   },
   "file_extension": ".py",
   "mimetype": "text/x-python",
   "name": "python",
   "nbconvert_exporter": "python",
   "pygments_lexer": "ipython3",
   "version": "3.11.6"
  }
 },
 "nbformat": 4,
 "nbformat_minor": 5
}
