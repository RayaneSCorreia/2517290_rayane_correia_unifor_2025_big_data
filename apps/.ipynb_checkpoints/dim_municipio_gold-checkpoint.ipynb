{
 "cells": [
  {
   "cell_type": "code",
   "execution_count": 9,
   "id": "eed861ba-bd26-40ee-87b1-4b2922726af0",
   "metadata": {},
   "outputs": [],
   "source": [
    "from pyspark.sql.functions import col, trim, upper, lit, current_timestamp, xxhash64\n",
    "from config_spark import get_spark"
   ]
  },
  {
   "cell_type": "code",
   "execution_count": 14,
   "id": "e0946588-3722-4131-9313-c3dbc16f2f00",
   "metadata": {},
   "outputs": [
    {
     "name": "stdout",
     "output_type": "stream",
     "text": [
      "✅ dim_municipio gravada em: s3a://gold-bolsa-familia-parquet/dim_municipio\n"
     ]
    }
   ],
   "source": [
    "\n",
    "SILVER_BUCKET = \"s3a://silver-bolsa-familia-parquet/\"\n",
    "GOLD_BUCKET   = \"s3a://gold-bolsa-familia-parquet/dim_municipio\"\n",
    "\n",
    "spark = get_spark(\"dim_municipio_from_silver\")\n",
    "\n",
    "df = spark.read.parquet(SILVER_BUCKET)\n",
    "\n",
    "dim = (df.select(\n",
    "        col(\"cod_mun\").cast(\"string\").alias(\"cod_mun_ibge\"),\n",
    "        trim(col(\"mun_nome\")).alias(\"mun_nome\"),\n",
    "        upper(trim(col(\"uf\"))).alias(\"uf_sigla\"),\n",
    "        trim(col(\"uf_nome\")).alias(\"uf_nome\"),\n",
    "        col(\"cod_reg\").alias(\"cod_regiao\")\n",
    "    )\n",
    "    .dropna(subset=[\"cod_mun_ibge\"])\n",
    "    .dropDuplicates([\"cod_mun_ibge\"])\n",
    "    .withColumn(\"mun_sk\", xxhash64(col(\"cod_mun_ibge\")))\n",
    "    .withColumn(\"ativo\", lit(True))\n",
    "    .withColumn(\"dt_criacao\", current_timestamp())\n",
    "    .select(\"mun_sk\",\"cod_mun_ibge\",\"mun_nome\",\"uf_sigla\",\"uf_nome\",\"cod_regiao\",\"ativo\",\"dt_criacao\")\n",
    ")\n",
    "\n",
    "(dim.repartition(\"uf_sigla\")\n",
    "    .write\n",
    "    .mode(\"overwrite\")\n",
    "    .partitionBy(\"uf_sigla\")\n",
    "    .parquet(GOLD_BUCKET))\n",
    "\n",
    "print(f\"dim_municipio gravada em: {GOLD_PATH}\")\n"
   ]
  },
  {
   "cell_type": "code",
   "execution_count": null,
   "id": "79e18513-043e-4785-a0b7-347dd6b97f40",
   "metadata": {},
   "outputs": [],
   "source": []
  }
 ],
 "metadata": {
  "kernelspec": {
   "display_name": "Python 3 (ipykernel)",
   "language": "python",
   "name": "python3"
  },
  "language_info": {
   "codemirror_mode": {
    "name": "ipython",
    "version": 3
   },
   "file_extension": ".py",
   "mimetype": "text/x-python",
   "name": "python",
   "nbconvert_exporter": "python",
   "pygments_lexer": "ipython3",
   "version": "3.11.6"
  }
 },
 "nbformat": 4,
 "nbformat_minor": 5
}
