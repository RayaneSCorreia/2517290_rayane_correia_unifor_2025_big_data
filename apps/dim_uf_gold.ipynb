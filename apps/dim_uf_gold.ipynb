{
 "cells": [
  {
   "cell_type": "code",
   "execution_count": 1,
   "id": "16f7211f-1965-4895-9ddb-6b9e291fd933",
   "metadata": {},
   "outputs": [],
   "source": [
    "from config_spark import get_spark\n",
    "from pyspark.sql.functions import col, trim, upper, lit, current_timestamp, xxhash64"
   ]
  },
  {
   "cell_type": "code",
   "execution_count": 2,
   "id": "0581325c-e743-41b5-bcfa-1260578a603d",
   "metadata": {},
   "outputs": [],
   "source": [
    "\n",
    "SILVER_BUCKET = \"s3a://silver-bolsa-familia-parquet/\"\n",
    "GOLD_BUCKET   = \"s3a://gold-bolsa-familia-parquet/dim_uf\"\n",
    "\n",
    "spark = get_spark(\"dim_uf_gold-from-silver\")\n",
    "\n",
    "\n",
    "df = spark.read.parquet(SILVER_BUCKET)\n",
    "\n",
    "\n",
    "dim = (df.select(\n",
    "        upper(trim(col(\"uf\"))).alias(\"uf_sigla\"),\n",
    "        trim(col(\"uf_nome\")).alias(\"uf_nome\"),\n",
    "        col(\"cod_reg\").alias(\"cod_regiao\")\n",
    "    )\n",
    "    .dropna(subset=[\"uf_sigla\"])\n",
    "    .dropDuplicates([\"uf_sigla\"])\n",
    "    .withColumn(\"uf_sk\", xxhash64(col(\"uf_sigla\")))\n",
    "    .withColumn(\"ativo\", lit(True))\n",
    "    .withColumn(\"dt_criacao\", current_timestamp())\n",
    "    .select(\"uf_sk\",\"uf_sigla\",\"uf_nome\",\"cod_regiao\",\"ativo\",\"dt_criacao\")\n",
    ")\n",
    "\n",
    "(dim.write\n",
    "    .mode(\"overwrite\")\n",
    "    .parquet(GOLD_BUCKET))"
   ]
  },
  {
   "cell_type": "code",
   "execution_count": null,
   "id": "5c7595be-4e9b-4bc8-9f84-d1d0b2a670f1",
   "metadata": {},
   "outputs": [],
   "source": []
  }
 ],
 "metadata": {
  "kernelspec": {
   "display_name": "Python 3 (ipykernel)",
   "language": "python",
   "name": "python3"
  },
  "language_info": {
   "codemirror_mode": {
    "name": "ipython",
    "version": 3
   },
   "file_extension": ".py",
   "mimetype": "text/x-python",
   "name": "python",
   "nbconvert_exporter": "python",
   "pygments_lexer": "ipython3",
   "version": "3.11.6"
  }
 },
 "nbformat": 4,
 "nbformat_minor": 5
}
